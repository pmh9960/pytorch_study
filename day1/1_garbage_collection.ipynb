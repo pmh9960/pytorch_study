{
 "metadata": {
  "language_info": {
   "codemirror_mode": {
    "name": "ipython",
    "version": 3
   },
   "file_extension": ".py",
   "mimetype": "text/x-python",
   "name": "python",
   "nbconvert_exporter": "python",
   "pygments_lexer": "ipython3",
   "version": "3.6.12-final"
  },
  "orig_nbformat": 2,
  "kernelspec": {
   "name": "ps_36",
   "display_name": "ps 3.6 Kernel",
   "language": "python"
  }
 },
 "nbformat": 4,
 "nbformat_minor": 2,
 "cells": [
  {
   "source": [
    "# Garbage Collection (12/28 Pytorch study)"
   ],
   "cell_type": "markdown",
   "metadata": {}
  },
  {
   "source": [
    "# Python 객체의 성질"
   ],
   "cell_type": "markdown",
   "metadata": {}
  },
  {
   "cell_type": "code",
   "execution_count": 1,
   "metadata": {},
   "outputs": [
    {
     "output_type": "stream",
     "name": "stdout",
     "text": [
      "3.6.12 |Anaconda, Inc.| (default, Sep  9 2020, 00:29:25) [MSC v.1916 64 bit (AMD64)]\n1.7.1\n"
     ]
    }
   ],
   "source": [
    "import sys\n",
    "import torch\n",
    "print(sys.version)\n",
    "print(torch.__version__)"
   ]
  },
  {
   "cell_type": "code",
   "execution_count": 2,
   "metadata": {},
   "outputs": [
    {
     "output_type": "execute_result",
     "data": {
      "text/plain": [
       "5061"
      ]
     },
     "metadata": {},
     "execution_count": 2
    }
   ],
   "source": [
    "a = 1\n",
    "b = a\n",
    "sys.getrefcount(a) # system 상에서 1을 많이 사용한다."
   ]
  },
  {
   "cell_type": "code",
   "execution_count": 3,
   "metadata": {},
   "outputs": [
    {
     "output_type": "stream",
     "name": "stdout",
     "text": [
      "4\n"
     ]
    }
   ],
   "source": [
    "a = 123123\n",
    "b = a\n",
    "print(sys.getrefcount(a))"
   ]
  },
  {
   "cell_type": "code",
   "execution_count": 4,
   "metadata": {},
   "outputs": [],
   "source": [
    "del a\n",
    "# print(sys.getrefcount(a))"
   ]
  },
  {
   "cell_type": "code",
   "execution_count": 5,
   "metadata": {},
   "outputs": [
    {
     "output_type": "stream",
     "name": "stdout",
     "text": [
      "123123\n2\n"
     ]
    }
   ],
   "source": [
    "print(b) # a를 삭제해도 b는 살아있다.\n",
    "print(sys.getrefcount(b))"
   ]
  },
  {
   "source": [
    "a = \"abcdabcd\" # Python에서 String은 immutable\n",
    "print(sys.getrefcount(a))\n",
    "b = a\n",
    "print(a is b) # 메모리 주소를 비교하는 \"is\" 연산\n",
    "print(sys.getrefcount(a))"
   ],
   "cell_type": "code",
   "metadata": {},
   "execution_count": 6,
   "outputs": [
    {
     "output_type": "stream",
     "name": "stdout",
     "text": [
      "3\nTrue\n4\n"
     ]
    }
   ]
  },
  {
   "source": [
    "# 직접 객체를 만들어보자\n",
    "\n",
    "VSCODE의 ***Show variables active in jupyter kernel*** 기능 사용!"
   ],
   "cell_type": "markdown",
   "metadata": {}
  },
  {
   "cell_type": "code",
   "execution_count": 2,
   "metadata": {},
   "outputs": [],
   "source": [
    "# 객체 만들어보기\n",
    "# 언제 생겨나고 죽는지 보기 위해서\n",
    "class Test(object):\n",
    "    def __init__(self):\n",
    "        print(\"객체 생겼다.\")\n",
    "    \n",
    "    def __del__(self):\n",
    "        print(\"객체 죽었다.\")\n"
   ]
  },
  {
   "source": [
    "## object ?\n",
    "\n",
    "> _객체 (Objects)_는 파이썬이 데이터(data)를 추상화한 것(abstraction)  \n",
    "\n",
    "> 모든 객체는 아이덴티티(identity), 형(type), 값(value)을 갖습니다. 객체의 아이덴티티 는 한 번 만들어진 후에는 변경되지 않습니다. 메모리상에서의 객체의 주소로 생각해도 좋습니다.  \n",
    ">〈is〉 연산자는 두 객체의 아이덴티티를 비교합니다; id() 함수는 아이덴티티를 정수로 표현한 값을 돌려줍니다.\n",
    "\n",
    "[Python documents](https://docs.python.org/ko/3/reference/datamodel.html)"
   ],
   "cell_type": "markdown",
   "metadata": {}
  },
  {
   "cell_type": "code",
   "execution_count": 8,
   "metadata": {},
   "outputs": [
    {
     "output_type": "stream",
     "name": "stdout",
     "text": [
      "객체 생겼다.\n화살표 하나만 지웠다고 메모리 사라지지 않음\n객체 죽었다.\n화살표를 모두 지우면 그제서야 삭제됨\n"
     ]
    }
   ],
   "source": [
    "test1 = Test()\n",
    "test2 = test1\n",
    "del test1\n",
    "print(\"화살표 하나만 지웠다고 메모리 사라지지 않음\")\n",
    "del test2\n",
    "print(\"화살표를 모두 지우면 그제서야 삭제됨\")"
   ]
  },
  {
   "cell_type": "code",
   "execution_count": 9,
   "metadata": {},
   "outputs": [
    {
     "output_type": "stream",
     "name": "stdout",
     "text": [
      "객체 생겼다.\n객체 생겼다.\n객체 죽었다.\n객체 죽었다.\n"
     ]
    }
   ],
   "source": [
    "test1 = Test()\n",
    "test2 = Test()\n",
    "del test1, test2\n"
   ]
  },
  {
   "source": [
    "# Memory Leak (메모리 누수)"
   ],
   "cell_type": "markdown",
   "metadata": {}
  },
  {
   "source": [
    "## Case 1 스스로 attribute 등으로 자기 자신을 가리키는 경우"
   ],
   "cell_type": "markdown",
   "metadata": {}
  },
  {
   "cell_type": "code",
   "execution_count": 11,
   "metadata": {},
   "outputs": [
    {
     "output_type": "stream",
     "name": "stdout",
     "text": [
      "객체 생겼다.\n"
     ]
    }
   ],
   "source": [
    "test1 = Test()\n",
    "test1.self_ref = test1 # Attribute로 자기 자신을 가리킴"
   ]
  },
  {
   "cell_type": "code",
   "execution_count": 12,
   "metadata": {},
   "outputs": [],
   "source": [
    "del test1 # 메모리에서 제거 되지는 않는데 더 이상 접근할 수 없음"
   ]
  },
  {
   "source": [
    "## 이 때 사용하는 것이 Garbage collection\n",
    "\n",
    "얘는 사실 강제로 호출할 수도 있지만 Python에서는 주기적으로 랜덤(?)하게 실행.\n",
    "\n",
    "특징\n",
    "- 느림\n",
    "- 컴파일러가 해줌\n",
    "- 알아서 랜덤하게 실행됨"
   ],
   "cell_type": "markdown",
   "metadata": {}
  },
  {
   "cell_type": "code",
   "execution_count": 13,
   "metadata": {},
   "outputs": [
    {
     "output_type": "stream",
     "name": "stdout",
     "text": [
      "객체 죽었다.\n"
     ]
    },
    {
     "output_type": "execute_result",
     "data": {
      "text/plain": [
       "2"
      ]
     },
     "metadata": {},
     "execution_count": 13
    }
   ],
   "source": [
    "import gc\n",
    "gc.collect()"
   ]
  },
  {
   "source": [
    "## Case 2 서로 가리키는 경우\n",
    "\n",
    "그래프 같은걸 그리다 보면 가끔 발생함."
   ],
   "cell_type": "markdown",
   "metadata": {}
  },
  {
   "cell_type": "code",
   "execution_count": 17,
   "metadata": {},
   "outputs": [],
   "source": [
    "class A(object):\n",
    "    def __init__(self, obj):\n",
    "        self.obj = obj # A.obj -> B\n",
    "        obj.register(self) # B.obj -> A\n",
    "    def __del__(self):\n",
    "        print(\"A is DELETED\")\n",
    "\n",
    "class B(object):\n",
    "    def register(self, obj):\n",
    "        self.obj = obj\n",
    "    def __del__(self):\n",
    "        print(\"B is DELETED\")"
   ]
  },
  {
   "cell_type": "code",
   "execution_count": 21,
   "metadata": {},
   "outputs": [],
   "source": [
    "b = B()\n",
    "a = A(b)"
   ]
  },
  {
   "cell_type": "code",
   "execution_count": 23,
   "metadata": {},
   "outputs": [],
   "source": [
    "del a, b # 둘 다 삭제되지 않음"
   ]
  },
  {
   "cell_type": "code",
   "execution_count": 24,
   "metadata": {},
   "outputs": [
    {
     "output_type": "stream",
     "name": "stdout",
     "text": [
      "B is DELETED\nA is DELETED\n"
     ]
    },
    {
     "output_type": "execute_result",
     "data": {
      "text/plain": [
       "32"
      ]
     },
     "metadata": {},
     "execution_count": 24
    }
   ],
   "source": [
    "# 마찬가지로 garbage collection으로 해결\n",
    "import gc\n",
    "gc.collect()"
   ]
  }
 ]
}