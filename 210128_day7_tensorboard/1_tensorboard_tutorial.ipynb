{
 "metadata": {
  "language_info": {
   "codemirror_mode": {
    "name": "ipython",
    "version": 3
   },
   "file_extension": ".py",
   "mimetype": "text/x-python",
   "name": "python",
   "nbconvert_exporter": "python",
   "pygments_lexer": "ipython3",
   "version": "3.6.12-final"
  },
  "orig_nbformat": 2,
  "kernelspec": {
   "name": "ps_36",
   "display_name": "ps 3.6 Kernel",
   "language": "python"
  }
 },
 "nbformat": 4,
 "nbformat_minor": 2,
 "cells": [
  {
   "source": [
    "# Tensorboard\n",
    "\n",
    "https://pytorch.org/docs/stable/tensorboard.html"
   ],
   "cell_type": "markdown",
   "metadata": {}
  },
  {
   "source": [
    "## Build a common network"
   ],
   "cell_type": "markdown",
   "metadata": {}
  },
  {
   "cell_type": "code",
   "execution_count": 1,
   "metadata": {},
   "outputs": [],
   "source": [
    "# imports\n",
    "import matplotlib.pyplot as plt\n",
    "import numpy as np\n",
    "\n",
    "import torch\n",
    "import torchvision\n",
    "import torchvision.transforms as transforms\n",
    "\n",
    "import torch.nn as nn\n",
    "import torch.nn.functional as F\n",
    "import torch.optim as optim\n"
   ]
  },
  {
   "cell_type": "code",
   "execution_count": 10,
   "metadata": {},
   "outputs": [],
   "source": [
    "name = 'test2'\n",
    "batch_size = 128\n",
    "shuffle = True\n",
    "lr = 0.001"
   ]
  },
  {
   "cell_type": "code",
   "execution_count": 11,
   "metadata": {},
   "outputs": [],
   "source": [
    "device = torch.device(\"cuda\") if torch.cuda.is_available() else torch.device(\"cpu\")\n",
    "\n",
    "# transforms\n",
    "transform = transforms.Compose(\n",
    "    [transforms.ToTensor(),\n",
    "    transforms.Normalize((0.5,), (0.5,))])\n",
    "\n",
    "# datasets\n",
    "trainset = torchvision.datasets.FashionMNIST('../../pytorch_study_data',\n",
    "    download=True,\n",
    "    train=True,\n",
    "    transform=transform)\n",
    "testset = torchvision.datasets.FashionMNIST('../../pytorch_study_data',\n",
    "    download=True,\n",
    "    train=False,\n",
    "    transform=transform)\n",
    "\n",
    "# dataloaders\n",
    "trainloader = torch.utils.data.DataLoader(trainset, batch_size=batch_size,\n",
    "                                        shuffle=shuffle, num_workers=2)\n",
    "\n",
    "\n",
    "testloader = torch.utils.data.DataLoader(testset, batch_size=batch_size,\n",
    "                                        shuffle=False, num_workers=2)\n",
    "\n",
    "# constant for classes\n",
    "classes = ('T-shirt/top', 'Trouser', 'Pullover', 'Dress', 'Coat',\n",
    "        'Sandal', 'Shirt', 'Sneaker', 'Bag', 'Ankle Boot')\n",
    "\n",
    "# helper function to show an image\n",
    "# (used in the `plot_classes_preds` function below)\n",
    "def matplotlib_imshow(img, one_channel=False):\n",
    "    if one_channel:\n",
    "        img = img.mean(dim=0)\n",
    "    img = img / 2 + 0.5     # unnormalize\n",
    "    npimg = img.cpu().data.numpy()\n",
    "    if one_channel:\n",
    "        plt.imshow(npimg, cmap=\"Greys\")\n",
    "    else:\n",
    "        plt.imshow(np.transpose(npimg, (1, 2, 0)))"
   ]
  },
  {
   "cell_type": "code",
   "execution_count": 4,
   "metadata": {},
   "outputs": [],
   "source": [
    "class Net(nn.Module):\n",
    "    def __init__(self):\n",
    "        super(Net, self).__init__()\n",
    "        self.conv1 = nn.Conv2d(1, 6, 5)\n",
    "        self.pool = nn.MaxPool2d(2, 2)\n",
    "        self.conv2 = nn.Conv2d(6, 16, 5)\n",
    "        self.fc1 = nn.Linear(16 * 4 * 4, 120)\n",
    "        self.fc2 = nn.Linear(120, 84)\n",
    "        self.fc3 = nn.Linear(84, 10)\n",
    "\n",
    "    def forward(self, x):\n",
    "        x = self.pool(F.relu(self.conv1(x)))\n",
    "        x = self.pool(F.relu(self.conv2(x)))\n",
    "        x = x.view(-1, 16 * 4 * 4)\n",
    "        x = F.relu(self.fc1(x))\n",
    "        x = F.relu(self.fc2(x))\n",
    "        x = self.fc3(x)\n",
    "        return x\n",
    "\n",
    "\n",
    "net = Net().to(device)"
   ]
  },
  {
   "cell_type": "code",
   "execution_count": 5,
   "metadata": {},
   "outputs": [],
   "source": [
    "criterion = nn.CrossEntropyLoss()\n",
    "optimizer = optim.SGD(net.parameters(), lr=lr, momentum=0.9)"
   ]
  },
  {
   "source": [
    "## Add (something)\n",
    "\n",
    "### Graph\n",
    "\n",
    "We can see our networks with `writer.add_graph(net, img)`. In this part, `img` is used for input of the network. `img` makes us be able to trace inputs."
   ],
   "cell_type": "markdown",
   "metadata": {}
  },
  {
   "cell_type": "code",
   "execution_count": 6,
   "metadata": {},
   "outputs": [],
   "source": [
    "from torch.utils.tensorboard import SummaryWriter\n",
    "\n",
    "# default `log_dir` is \"runs\" - we'll be more specific here\n",
    "# writer = SummaryWriter() # 기본적으로 runs에 날짜, 사용된 컴퓨터의 정보가 들어감\n",
    "# writer = SummaryWriter('runs/fashion_mnist_experiment_1') # 직접 경로 조정\n",
    "comment = f\" name = {name} batch_size = {batch_size} lr = {lr} shuffle = {shuffle}\"\n",
    "writer = SummaryWriter(comment=comment)"
   ]
  },
  {
   "cell_type": "code",
   "execution_count": 7,
   "metadata": {},
   "outputs": [],
   "source": [
    "img, _ = trainloader.dataset[0]\n",
    "img = img.to(device)\n",
    "writer.add_graph(net, img.unsqueeze(0))\n",
    "writer.close()"
   ]
  },
  {
   "source": [
    "### Scalar\n",
    "### Image\n",
    "### Parameters (histograms / distributions)\n",
    "### Hyperparameters"
   ],
   "cell_type": "markdown",
   "metadata": {}
  },
  {
   "cell_type": "code",
   "execution_count": 12,
   "metadata": {},
   "outputs": [
    {
     "output_type": "stream",
     "name": "stderr",
     "text": [
      "100%|██████████| 469/469 [00:20<00:00, 22.66it/s]\n",
      "100%|██████████| 79/79 [00:03<00:00, 20.69it/s]\n",
      "100%|██████████| 469/469 [00:13<00:00, 33.99it/s]\n",
      "100%|██████████| 79/79 [00:03<00:00, 24.06it/s]\n",
      "100%|██████████| 469/469 [00:14<00:00, 31.58it/s]\n",
      "100%|██████████| 79/79 [00:03<00:00, 25.18it/s]Finished Training\n",
      "\n"
     ]
    }
   ],
   "source": [
    "from tqdm import tqdm\n",
    "\n",
    "comment = f\" name = {name} batch_size = {batch_size} lr = {lr} shuffle = {shuffle}\"\n",
    "writer = SummaryWriter(comment=comment)\n",
    "\n",
    "running_loss = 0.0\n",
    "running_loss_test = 0.0\n",
    "print_freq = 10\n",
    "for epoch in range(3):  # loop over the dataset multiple times\n",
    "    for idx, batch in tqdm(enumerate(trainloader), total=len(trainloader)):\n",
    "        # get the inputs; data is a list of [inputs, labels]\n",
    "        inputs, labels = batch\n",
    "        inputs = inputs.to(device)\n",
    "        labels = labels.to(device)\n",
    "\n",
    "        # zero the parameter gradients\n",
    "        optimizer.zero_grad()\n",
    "\n",
    "        # forward + backward + optimize\n",
    "        outputs = net(inputs)\n",
    "        loss = criterion(outputs, labels)\n",
    "        loss.backward()\n",
    "        optimizer.step()\n",
    "\n",
    "        running_loss += loss.item()\n",
    "\n",
    "        if idx % print_freq == 9:  # every print_freq mini-batches...\n",
    "            # ...log the running loss\n",
    "            # Write scaler to Loss - train directory\n",
    "            writer.add_scalar(\n",
    "                \"Loss/train\", \n",
    "                running_loss / print_freq, \n",
    "                epoch * len(trainloader) + idx,\n",
    "            )\n",
    "            writer.add_image(\"Images\", torchvision.utils.make_grid(inputs))\n",
    "            running_loss = 0.0\n",
    "\n",
    "    total_correct = 0\n",
    "    for idx, batch in tqdm(enumerate(testloader), total=len(testloader)):\n",
    "        inputs, labels = batch\n",
    "        inputs = inputs.to(device)\n",
    "        labels = labels.to(device)\n",
    "\n",
    "        outputs = net(inputs)\n",
    "        loss = criterion(outputs, labels)\n",
    "        running_loss_test += loss\n",
    "        total_correct += torch.sum(torch.argmax(outputs, dim=1) == labels)\n",
    "\n",
    "        if idx % print_freq == 9:  # every print_freq mini-batches...\n",
    "            # ...log the running loss\n",
    "            # Write scaler to Loss - test directory\n",
    "            writer.add_scalar(\n",
    "                \"Loss/test\",\n",
    "                running_loss_test / print_freq,\n",
    "                epoch * len(testloader) + idx,\n",
    "            )\n",
    "            running_loss = 0.0\n",
    "\n",
    "    # Write images\n",
    "    writer.add_image(\"Images\", torchvision.utils.make_grid(inputs))\n",
    "    # Another scalar\n",
    "    writer.add_scalar(\"Accuracy\", total_correct / len(testset), epoch)\n",
    "    \n",
    "    # We can visualize parameter distribution and histogram!\n",
    "    for name, param in net.named_parameters():\n",
    "        writer.add_histogram(name, param.clone().cpu().data.numpy(), epoch)\n",
    "\n",
    "# Also we can write our hyperparameters either\n",
    "writer.add_hparams(\n",
    "    {\"lr\": lr, \"bsize\": batch_size, \"shuffle\": shuffle,},\n",
    "    {\"accuracy\": total_correct / len(testset), \"loss\": loss},\n",
    ")\n",
    "writer.close()\n",
    "print(\"Finished Training\")\n",
    "\n"
   ]
  },
  {
   "source": [
    "### Embedding (dimension reduction)\n",
    "\n",
    "등의 기능들도 존재"
   ],
   "cell_type": "markdown",
   "metadata": {}
  }
 ]
}