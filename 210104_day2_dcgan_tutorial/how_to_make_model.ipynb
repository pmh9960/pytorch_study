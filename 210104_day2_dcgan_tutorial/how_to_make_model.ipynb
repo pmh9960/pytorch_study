{
 "metadata": {
  "language_info": {
   "codemirror_mode": {
    "name": "ipython",
    "version": 3
   },
   "file_extension": ".py",
   "mimetype": "text/x-python",
   "name": "python",
   "nbconvert_exporter": "python",
   "pygments_lexer": "ipython3",
   "version": "3.6.12-final"
  },
  "orig_nbformat": 2,
  "kernelspec": {
   "name": "ps_36",
   "display_name": "ps 3.6 Kernel",
   "language": "python"
  }
 },
 "nbformat": 4,
 "nbformat_minor": 2,
 "cells": [
  {
   "source": [
    "# How to make model"
   ],
   "cell_type": "markdown",
   "metadata": {}
  },
  {
   "cell_type": "code",
   "execution_count": 1,
   "metadata": {},
   "outputs": [
    {
     "output_type": "stream",
     "name": "stdout",
     "text": [
      "3.6.12 |Anaconda, Inc.| (default, Sep  9 2020, 00:29:25) [MSC v.1916 64 bit (AMD64)]\n1.7.1\n"
     ]
    }
   ],
   "source": [
    "import sys\n",
    "\n",
    "import torch\n",
    "import torch.nn as nn\n",
    "print(sys.version)\n",
    "print(torch.__version__)"
   ]
  },
  {
   "source": [
    "# 1. Wrap all step in `main`"
   ],
   "cell_type": "markdown",
   "metadata": {}
  },
  {
   "cell_type": "code",
   "execution_count": 2,
   "metadata": {},
   "outputs": [
    {
     "output_type": "stream",
     "name": "stdout",
     "text": [
      "Model1(\n  (main): Sequential(\n    (0): Conv2d(3, 64, kernel_size=(3, 3), stride=(1, 1))\n    (1): ReLU()\n    (2): Conv2d(64, 64, kernel_size=(3, 3), stride=(1, 1))\n    (3): ReLU()\n    (4): Conv2d(64, 10, kernel_size=(3, 3), stride=(1, 1))\n    (5): ReLU()\n  )\n)\n"
     ]
    }
   ],
   "source": [
    "class Model1(nn.Module):\n",
    "    def __init__(self):\n",
    "        super(Model1, self).__init__()\n",
    "        self.main = nn.Sequential(\n",
    "            nn.Conv2d(in_channels=3, out_channels=64, kernel_size=(3,3)),\n",
    "            nn.ReLU(),\n",
    "            nn.Conv2d(in_channels=64, out_channels=64, kernel_size=(3,3)),\n",
    "            nn.ReLU(),\n",
    "            nn.Conv2d(in_channels=64, out_channels=10, kernel_size=(3,3)),\n",
    "            nn.ReLU(),\n",
    "        )\n",
    "\n",
    "    def forward(self, input):\n",
    "        return self.main(input)\n",
    "        \n",
    "m1 = Model1()\n",
    "print(m1)"
   ]
  },
  {
   "source": [
    "# 2. Attribute every single step"
   ],
   "cell_type": "markdown",
   "metadata": {}
  },
  {
   "cell_type": "code",
   "execution_count": 3,
   "metadata": {},
   "outputs": [
    {
     "output_type": "stream",
     "name": "stdout",
     "text": [
      "Model2(\n  (conv1): Conv2d(3, 64, kernel_size=(3, 3), stride=(1, 1))\n  (acti1): ReLU()\n  (conv2): Conv2d(64, 64, kernel_size=(3, 3), stride=(1, 1))\n  (acti2): ReLU()\n  (conv3): Conv2d(64, 10, kernel_size=(3, 3), stride=(1, 1))\n  (acti3): ReLU()\n)\n"
     ]
    }
   ],
   "source": [
    "class Model2(nn.Module):\n",
    "    def __init__(self):\n",
    "        super(Model2, self).__init__()\n",
    "        self.conv1 = nn.Conv2d(in_channels=3, out_channels=64, kernel_size=(3,3))\n",
    "        self.acti1 = nn.ReLU()\n",
    "        self.conv2 = nn.Conv2d(in_channels=64, out_channels=64, kernel_size=(3,3))\n",
    "        self.acti2 = nn.ReLU()\n",
    "        self.conv3 = nn.Conv2d(in_channels=64, out_channels=10, kernel_size=(3,3))\n",
    "        self.acti3 = nn.ReLU()\n",
    "    \n",
    "    def forward(self, input):\n",
    "        output = input # or Deep copy ?\n",
    "        output = self.conv1(output)\n",
    "        output = self.acti1(output)\n",
    "        output = self.conv2(output)\n",
    "        output = self.acti2(output)\n",
    "        output = self.conv3(output)\n",
    "        output = self.acti3(output)\n",
    "        return output\n",
    "\n",
    "m2 = Model2()\n",
    "print(m2)"
   ]
  },
  {
   "source": [
    "# 3. Wrap up each layers"
   ],
   "cell_type": "markdown",
   "metadata": {}
  },
  {
   "cell_type": "code",
   "execution_count": 4,
   "metadata": {},
   "outputs": [
    {
     "output_type": "stream",
     "name": "stdout",
     "text": [
      "Model3(\n  (layer1): Sequential(\n    (0): Conv2d(3, 64, kernel_size=(3, 3), stride=(1, 1))\n    (1): ReLU()\n  )\n  (layer2): Sequential(\n    (0): Conv2d(64, 64, kernel_size=(3, 3), stride=(1, 1))\n    (1): ReLU()\n  )\n  (layer3): Sequential(\n    (0): Conv2d(64, 10, kernel_size=(3, 3), stride=(1, 1))\n    (1): ReLU()\n  )\n)\n"
     ]
    }
   ],
   "source": [
    "class Model3(nn.Module):\n",
    "    def __init__(self):\n",
    "        super(Model3, self).__init__()\n",
    "        self.layer1 = nn.Sequential(\n",
    "            nn.Conv2d(in_channels=3, out_channels=64, kernel_size=(3,3)),\n",
    "            nn.ReLU(),\n",
    "        )\n",
    "        self.layer2 = nn.Sequential(\n",
    "            nn.Conv2d(in_channels=64, out_channels=64, kernel_size=(3,3)),\n",
    "            nn.ReLU(),\n",
    "        )\n",
    "        self.layer3 = nn.Sequential(\n",
    "            nn.Conv2d(in_channels=64, out_channels=10, kernel_size=(3,3)),\n",
    "            nn.ReLU(),\n",
    "        )\n",
    "\n",
    "    def forward(self, input):\n",
    "        output = input\n",
    "        output = self.layer1(output)\n",
    "        output = self.layer2(output)\n",
    "        output = self.layer3(output)\n",
    "        return output\n",
    "        \n",
    "m3 = Model3()\n",
    "print(m3)\n"
   ]
  },
  {
   "source": [
    "## 장점 : 각 layer 별로 parameters를 끌어오기 편함.\n",
    " \n",
    "<=> Update할 parameters 정하기 쉽다."
   ],
   "cell_type": "markdown",
   "metadata": {}
  },
  {
   "cell_type": "code",
   "execution_count": 5,
   "metadata": {},
   "outputs": [
    {
     "output_type": "stream",
     "name": "stdout",
     "text": [
      "<generator object Module.parameters at 0x000001D0CA34BEB8>\n<generator object Module.parameters at 0x000001D0CA34BEB8>\n<generator object Module.parameters at 0x000001D0CA34BEB8>\n\n<generator object Module.parameters at 0x000001D0CA34BEB8>\n<generator object Module.parameters at 0x000001D0CA34BEB8>\n<generator object Module.parameters at 0x000001D0CA34BEB8>\n"
     ]
    }
   ],
   "source": [
    "print(m1.parameters())\n",
    "print(m2.parameters())\n",
    "print(m3.parameters())\n",
    "print()\n",
    "\n",
    "# One step (conv1)\n",
    "print(m1.main[0].parameters())\n",
    "print(m2.conv1.parameters())\n",
    "print(m3.layer1[0].parameters())\n"
   ]
  },
  {
   "source": [
    "# 3+. Advanced layer model\n",
    "\n",
    "## Layers로 묶는 방법\n",
    "\n",
    "1. `nn.Sequential`로 묶는다.\n",
    "2. `nn.ModuleList` / `nn.ModuleDict`로 묶는다.  \n",
    "    Python에 원래 있는 `List`, `Dict`를 사용하면 `parameters()` 사용 불가능.  \n",
    "    꼭 Module로 감싸줘야 한다."
   ],
   "cell_type": "markdown",
   "metadata": {}
  },
  {
   "cell_type": "code",
   "execution_count": 6,
   "metadata": {},
   "outputs": [
    {
     "output_type": "stream",
     "name": "stdout",
     "text": [
      "Model3_1(\n  (layers): ModuleList(\n    (0): Sequential(\n      (0): Conv2d(3, 64, kernel_size=(3, 3), stride=(1, 1))\n      (1): ReLU()\n    )\n    (1): Sequential(\n      (0): Conv2d(64, 64, kernel_size=(3, 3), stride=(1, 1))\n      (1): ReLU()\n    )\n    (2): Sequential(\n      (0): Conv2d(64, 10, kernel_size=(3, 3), stride=(1, 1))\n      (1): ReLU()\n    )\n  )\n)\n"
     ]
    }
   ],
   "source": [
    "class Model3_1(nn.Module):\n",
    "    def __init__(self):\n",
    "        super(Model3_1, self).__init__()\n",
    "        layer1 = nn.Sequential(\n",
    "            nn.Conv2d(in_channels=3, out_channels=64, kernel_size=(3,3)),\n",
    "            nn.ReLU(),\n",
    "        )\n",
    "        layer2 = nn.Sequential(\n",
    "            nn.Conv2d(in_channels=64, out_channels=64, kernel_size=(3,3)),\n",
    "            nn.ReLU(),\n",
    "        )\n",
    "        layer3 = nn.Sequential(\n",
    "            nn.Conv2d(in_channels=64, out_channels=10, kernel_size=(3,3)),\n",
    "            nn.ReLU(),\n",
    "        )\n",
    "        \n",
    "        self.layers = nn.ModuleList([layer1, layer2, layer3]) # Forwarding X\n",
    "        # self.layers = nn.Sequential(layer1, layer2, layer3) # Forwarding O\n",
    "\n",
    "    def forward(self, input):\n",
    "        output = input\n",
    "        # ModuleList\n",
    "        for layer in layers:\n",
    "            output = layer(output)\n",
    "        # # Sequential\n",
    "        # output = self.layers(output)\n",
    "        return output\n",
    "        \n",
    "m3_1 = Model3_1()\n",
    "print(m3_1)\n"
   ]
  },
  {
   "cell_type": "code",
   "execution_count": 7,
   "metadata": {},
   "outputs": [
    {
     "output_type": "execute_result",
     "data": {
      "text/plain": [
       "<generator object Module.parameters at 0x000001D0CA34BE60>"
      ]
     },
     "metadata": {},
     "execution_count": 7
    }
   ],
   "source": [
    "m3_1.layers[0][0].parameters()"
   ]
  },
  {
   "cell_type": "code",
   "execution_count": null,
   "metadata": {},
   "outputs": [],
   "source": []
  }
 ]
}