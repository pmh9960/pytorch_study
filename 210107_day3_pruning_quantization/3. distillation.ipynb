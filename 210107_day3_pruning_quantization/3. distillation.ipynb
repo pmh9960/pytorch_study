{
 "metadata": {
  "language_info": {
   "codemirror_mode": {
    "name": "ipython",
    "version": 3
   },
   "file_extension": ".py",
   "mimetype": "text/x-python",
   "name": "python",
   "nbconvert_exporter": "python",
   "pygments_lexer": "ipython3",
   "version": 3
  },
  "orig_nbformat": 2
 },
 "nbformat": 4,
 "nbformat_minor": 2,
 "cells": [
  {
   "source": [
    "# Distillation\n",
    "\n",
    "Distillation은 기존 모델로 경량화된 새로운 모델을 학습시키는 방법\n",
    "\n",
    "자세한 내용은 \n",
    "https://baeseongsu.github.io/posts/knowledge-distillation/\n",
    "\n"
   ],
   "cell_type": "markdown",
   "metadata": {}
  }
 ]
}