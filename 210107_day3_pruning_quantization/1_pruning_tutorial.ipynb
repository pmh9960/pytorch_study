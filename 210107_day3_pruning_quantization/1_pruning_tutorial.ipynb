{
  "cells": [
    {
      "cell_type": "code",
      "execution_count": 1,
      "metadata": {
        "collapsed": false
      },
      "outputs": [],
      "source": [
        "%matplotlib inline"
      ]
    },
    {
      "cell_type": "markdown",
      "metadata": {},
      "source": [
        "\n",
        "Pruning Tutorial\n",
        "=====================================\n",
        "**Author**: `Michela Paganini <https://github.com/mickypaganini>`_\n",
        "\n",
        "State-of-the-art deep learning techniques rely on over-parametrized models \n",
        "that are hard to deploy. On the contrary, biological neural networks are \n",
        "known to use efficient sparse connectivity. Identifying optimal  \n",
        "techniques to compress models by reducing the number of parameters in them is \n",
        "important in order to reduce memory, battery, and hardware consumption without \n",
        "sacrificing accuracy, deploy lightweight models on device, and guarantee \n",
        "privacy with private on-device computation. On the research front, pruning is \n",
        "used to investigate the differences in learning dynamics between \n",
        "over-parametrized and under-parametrized networks, to study the role of lucky \n",
        "sparse subnetworks and initializations\n",
        "(\"`lottery tickets <https://arxiv.org/abs/1803.03635>`_\") as a destructive \n",
        "neural architecture search technique, and more.\n",
        "\n",
        "In this tutorial, you will learn how to use ``torch.nn.utils.prune`` to \n",
        "sparsify your neural networks, and how to extend it to implement your \n",
        "own custom pruning technique.\n",
        "\n",
        "Requirements\n",
        "------------\n",
        "``\"torch>=1.4.0a0+8e8a5e0\"``\n",
        "\n",
        "\n"
      ]
    },
    {
      "source": [
        "## Why Pruning?\n",
        "\n",
        "딥러닝 발전의 추세가 Model이 커지는 방향.  \n",
        "컴퓨터 메모리에서 감당하기 힘들다. (학습 / 추론 모두) or 작은 드론 같은 곳에서 사용하기 어렵다.\n",
        "\n",
        "=> Pruning 결과\n",
        "\n",
        "어느 정도 Pruning 해도 성능이 크게 떨어지지 않음.  \n",
        "fc-layer의 Sparsity가 Convolution의 Sparsity가 커서 fc-layer가 pruning의 효과를 더 잘 보았다.  \n",
        "\n",
        "추가적으로 convolution은 구조적으로 pruning을 해도 gpu 연산에 도움이 잘 되지 않음. => 단순 각 파라미터당 확률로 pruning 하는 것이 아니라 채널 단위 / 행 단위 / 열 단위 처럼 구조적으로 pruning 해야함."
      ],
      "cell_type": "markdown",
      "metadata": {}
    },
    {
      "cell_type": "code",
      "execution_count": 2,
      "metadata": {
        "collapsed": false
      },
      "outputs": [],
      "source": [
        "import torch\n",
        "from torch import nn\n",
        "import torch.nn.utils.prune as prune\n",
        "import torch.nn.functional as F"
      ]
    },
    {
      "cell_type": "markdown",
      "metadata": {},
      "source": [
        "Create a model\n",
        "--------------\n",
        "\n",
        "In this tutorial, we use the `LeNet \n",
        "<http://yann.lecun.com/exdb/publis/pdf/lecun-98.pdf>`_ architecture from \n",
        "LeCun et al., 1998.\n",
        "\n"
      ]
    },
    {
      "cell_type": "code",
      "execution_count": 3,
      "metadata": {
        "collapsed": false
      },
      "outputs": [],
      "source": [
        "device = torch.device(\"cuda\" if torch.cuda.is_available() else \"cpu\")\n",
        "\n",
        "class LeNet(nn.Module):\n",
        "    def __init__(self):\n",
        "        super(LeNet, self).__init__()\n",
        "        # 1 input image channel, 6 output channels, 3x3 square conv kernel\n",
        "        self.conv1 = nn.Conv2d(1, 6, 3)\n",
        "        self.conv2 = nn.Conv2d(6, 16, 3)\n",
        "        self.fc1 = nn.Linear(16 * 5 * 5, 120)  # 5x5 image dimension\n",
        "        self.fc2 = nn.Linear(120, 84)\n",
        "        self.fc3 = nn.Linear(84, 10)\n",
        "\n",
        "    def forward(self, x):\n",
        "        x = F.max_pool2d(F.relu(self.conv1(x)), (2, 2))\n",
        "        x = F.max_pool2d(F.relu(self.conv2(x)), 2)\n",
        "        x = x.view(-1, int(x.nelement() / x.shape[0]))\n",
        "        x = F.relu(self.fc1(x))\n",
        "        x = F.relu(self.fc2(x))\n",
        "        x = self.fc3(x)\n",
        "        return x\n",
        "\n",
        "model = LeNet().to(device=device)"
      ]
    },
    {
      "cell_type": "markdown",
      "metadata": {},
      "source": [
        "Inspect a Module\n",
        "----------------\n",
        "\n",
        "Let's inspect the (unpruned) ``conv1`` layer in our LeNet model. It will contain two \n",
        "parameters ``weight`` and ``bias``, and no buffers, for now.\n",
        "\n"
      ]
    },
    {
      "source": [
        "## Pytorch에서 pruning\n",
        "\n",
        "Weight / bias의 mask가 buffer에 들어간다.\n",
        "\n",
        "### Parameter vs. Buffer\n",
        "\n",
        "```python\n",
        "module.named_parameters()\n",
        "module.named_buffers()\n",
        "```\n",
        "- parameters : 기존에 알고 있던 파라미터들. (학습하는 값들.)\n",
        "- buffers : **학습에 쓰지 않는 값들**은 모두 buffer에 들어간다. (e.g. batch normalization할 때 affine parameters, pruning 할 때 mask ...)"
      ],
      "cell_type": "markdown",
      "metadata": {}
    },
    {
      "cell_type": "code",
      "execution_count": 4,
      "metadata": {
        "collapsed": false
      },
      "outputs": [
        {
          "output_type": "stream",
          "name": "stdout",
          "text": [
            "[('weight', Parameter containing:\ntensor([[[[-0.2429, -0.0681,  0.2141],\n          [-0.3237,  0.2916,  0.0836],\n          [ 0.3166, -0.0505, -0.0923]]],\n\n\n        [[[-0.0070,  0.2725,  0.2368],\n          [ 0.2387, -0.1942,  0.1940],\n          [ 0.2375, -0.3000,  0.0384]]],\n\n\n        [[[-0.0459, -0.0191,  0.2707],\n          [-0.2176,  0.2177,  0.1617],\n          [-0.1649,  0.0369, -0.1915]]],\n\n\n        [[[ 0.0318,  0.0756,  0.1469],\n          [ 0.1276, -0.0452, -0.3290],\n          [ 0.1080, -0.1449,  0.2936]]],\n\n\n        [[[ 0.2358, -0.2476,  0.2860],\n          [-0.0201,  0.2961,  0.0399],\n          [ 0.1786, -0.2159, -0.0228]]],\n\n\n        [[[ 0.3064,  0.1509, -0.0899],\n          [-0.0257, -0.1684,  0.3071],\n          [-0.2357, -0.1054, -0.0637]]]], device='cuda:0', requires_grad=True)), ('bias', Parameter containing:\ntensor([ 0.1777,  0.2340,  0.1089, -0.3051, -0.2037, -0.1726], device='cuda:0',\n       requires_grad=True))]\n"
          ]
        }
      ],
      "source": [
        "module = model.conv1\n",
        "print(list(module.named_parameters()))"
      ]
    },
    {
      "cell_type": "code",
      "execution_count": 5,
      "metadata": {
        "collapsed": false
      },
      "outputs": [
        {
          "output_type": "stream",
          "name": "stdout",
          "text": [
            "[]\n"
          ]
        }
      ],
      "source": [
        "print(list(module.named_buffers()))"
      ]
    },
    {
      "cell_type": "markdown",
      "metadata": {},
      "source": [
        "Pruning a Module\n",
        "----------------\n",
        "\n",
        "To prune a module (in this example, the ``conv1`` layer of our LeNet \n",
        "architecture), first select a pruning technique among those available in \n",
        "``torch.nn.utils.prune`` (or\n",
        "`implement <#extending-torch-nn-utils-pruning-with-custom-pruning-functions>`_\n",
        "your own by subclassing \n",
        "``BasePruningMethod``). Then, specify the module and the name of the parameter to \n",
        "prune within that module. Finally, using the adequate keyword arguments \n",
        "required by the selected pruning technique, specify the pruning parameters.\n",
        "\n",
        "In this example, we will prune at random 30% of the connections in \n",
        "the parameter named ``weight`` in the ``conv1`` layer.\n",
        "The module is passed as the first argument to the function; ``name`` \n",
        "identifies the parameter within that module using its string identifier; and \n",
        "``amount`` indicates either the percentage of connections to prune (if it \n",
        "is a float between 0. and 1.), or the absolute number of connections to \n",
        "prune (if it is a non-negative integer).\n",
        "\n"
      ]
    },
    {
      "cell_type": "code",
      "execution_count": 6,
      "metadata": {
        "collapsed": false
      },
      "outputs": [
        {
          "output_type": "execute_result",
          "data": {
            "text/plain": [
              "Conv2d(1, 6, kernel_size=(3, 3), stride=(1, 1))"
            ]
          },
          "metadata": {},
          "execution_count": 6
        }
      ],
      "source": [
        "prune.random_unstructured(module, name=\"weight\", amount=0.3)"
      ]
    },
    {
      "cell_type": "markdown",
      "metadata": {},
      "source": [
        "Pruning acts by removing ``weight`` from the parameters and replacing it with \n",
        "a new parameter called ``weight_orig`` (i.e. appending ``\"_orig\"`` to the \n",
        "initial parameter ``name``). ``weight_orig`` stores the unpruned version of \n",
        "the tensor. The ``bias`` was not pruned, so it will remain intact.\n",
        "\n"
      ]
    },
    {
      "cell_type": "code",
      "execution_count": 7,
      "metadata": {
        "collapsed": false
      },
      "outputs": [
        {
          "output_type": "stream",
          "name": "stdout",
          "text": [
            "[('bias', Parameter containing:\ntensor([ 0.1777,  0.2340,  0.1089, -0.3051, -0.2037, -0.1726], device='cuda:0',\n       requires_grad=True)), ('weight_orig', Parameter containing:\ntensor([[[[-0.2429, -0.0681,  0.2141],\n          [-0.3237,  0.2916,  0.0836],\n          [ 0.3166, -0.0505, -0.0923]]],\n\n\n        [[[-0.0070,  0.2725,  0.2368],\n          [ 0.2387, -0.1942,  0.1940],\n          [ 0.2375, -0.3000,  0.0384]]],\n\n\n        [[[-0.0459, -0.0191,  0.2707],\n          [-0.2176,  0.2177,  0.1617],\n          [-0.1649,  0.0369, -0.1915]]],\n\n\n        [[[ 0.0318,  0.0756,  0.1469],\n          [ 0.1276, -0.0452, -0.3290],\n          [ 0.1080, -0.1449,  0.2936]]],\n\n\n        [[[ 0.2358, -0.2476,  0.2860],\n          [-0.0201,  0.2961,  0.0399],\n          [ 0.1786, -0.2159, -0.0228]]],\n\n\n        [[[ 0.3064,  0.1509, -0.0899],\n          [-0.0257, -0.1684,  0.3071],\n          [-0.2357, -0.1054, -0.0637]]]], device='cuda:0', requires_grad=True))]\n"
          ]
        }
      ],
      "source": [
        "print(list(module.named_parameters()))"
      ]
    },
    {
      "cell_type": "markdown",
      "metadata": {},
      "source": [
        "The pruning mask generated by the pruning technique selected above is saved \n",
        "as a module buffer named ``weight_mask`` (i.e. appending ``\"_mask\"`` to the \n",
        "initial parameter ``name``).\n",
        "\n"
      ]
    },
    {
      "cell_type": "code",
      "execution_count": 8,
      "metadata": {
        "collapsed": false
      },
      "outputs": [
        {
          "output_type": "stream",
          "name": "stdout",
          "text": [
            "[('weight_mask', tensor([[[[1., 1., 0.],\n          [1., 1., 0.],\n          [1., 1., 0.]]],\n\n\n        [[[0., 1., 1.],\n          [1., 1., 0.],\n          [1., 1., 1.]]],\n\n\n        [[[0., 1., 1.],\n          [1., 0., 1.],\n          [0., 1., 1.]]],\n\n\n        [[[0., 1., 1.],\n          [0., 0., 1.],\n          [1., 0., 0.]]],\n\n\n        [[[0., 1., 1.],\n          [1., 1., 1.],\n          [1., 1., 1.]]],\n\n\n        [[[0., 1., 0.],\n          [1., 1., 1.],\n          [1., 1., 1.]]]], device='cuda:0'))]\n"
          ]
        }
      ],
      "source": [
        "print(list(module.named_buffers()))"
      ]
    },
    {
      "cell_type": "markdown",
      "metadata": {},
      "source": [
        "For the forward pass to work without modification, the ``weight`` attribute \n",
        "needs to exist. The pruning techniques implemented in \n",
        "``torch.nn.utils.prune`` compute the pruned version of the weight (by \n",
        "combining the mask with the original parameter) and store them in the \n",
        "attribute ``weight``. Note, this is no longer a parameter of the ``module``,\n",
        "it is now simply an attribute.\n",
        "\n"
      ]
    },
    {
      "cell_type": "code",
      "execution_count": 9,
      "metadata": {
        "collapsed": false
      },
      "outputs": [
        {
          "output_type": "stream",
          "name": "stdout",
          "text": [
            "tensor([[[[-0.2429, -0.0681,  0.0000],\n          [-0.3237,  0.2916,  0.0000],\n          [ 0.3166, -0.0505, -0.0000]]],\n\n\n        [[[-0.0000,  0.2725,  0.2368],\n          [ 0.2387, -0.1942,  0.0000],\n          [ 0.2375, -0.3000,  0.0384]]],\n\n\n        [[[-0.0000, -0.0191,  0.2707],\n          [-0.2176,  0.0000,  0.1617],\n          [-0.0000,  0.0369, -0.1915]]],\n\n\n        [[[ 0.0000,  0.0756,  0.1469],\n          [ 0.0000, -0.0000, -0.3290],\n          [ 0.1080, -0.0000,  0.0000]]],\n\n\n        [[[ 0.0000, -0.2476,  0.2860],\n          [-0.0201,  0.2961,  0.0399],\n          [ 0.1786, -0.2159, -0.0228]]],\n\n\n        [[[ 0.0000,  0.1509, -0.0000],\n          [-0.0257, -0.1684,  0.3071],\n          [-0.2357, -0.1054, -0.0637]]]], device='cuda:0',\n       grad_fn=<MulBackward0>)\n"
          ]
        }
      ],
      "source": [
        "print(module.weight)"
      ]
    },
    {
      "cell_type": "markdown",
      "metadata": {},
      "source": [
        "Finally, pruning is applied prior to each forward pass using PyTorch's\n",
        "``forward_pre_hooks``. Specifically, when the ``module`` is pruned, as we \n",
        "have done here, it will acquire a ``forward_pre_hook`` for each parameter \n",
        "associated with it that gets pruned. In this case, since we have so far \n",
        "only pruned the original parameter named ``weight``, only one hook will be\n",
        "present.\n",
        "\n"
      ]
    },
    {
      "source": [
        "### Forward hooks / forward pre hooks\n",
        "\n",
        "- **Hooking:** 출력값을 중간에 Hooking해서 별도의 어떤 함수로 보냄\n",
        "\n",
        "- **Forward hooks:** Forwarding을 한 뒤에 output을 hooking하기 위한 함수.\n",
        "- **Forward pre hooks:** Forwarding하기 전 input을 hooking하기 위한 함수. \n",
        "  - ***pruning 자체가 hook을 걸어주는 것.***\n",
        "  - Weight / bias를 걸어주기 전 pruning을 진행해야 하므로.\n"
      ],
      "cell_type": "markdown",
      "metadata": {}
    },
    {
      "cell_type": "code",
      "execution_count": 10,
      "metadata": {
        "collapsed": false
      },
      "outputs": [
        {
          "output_type": "stream",
          "name": "stdout",
          "text": [
            "OrderedDict([(0, <torch.nn.utils.prune.RandomUnstructured object at 0x0000026051011B38>)])\n"
          ]
        }
      ],
      "source": [
        "print(module._forward_pre_hooks)"
      ]
    },
    {
      "cell_type": "markdown",
      "metadata": {},
      "source": [
        "For completeness, we can now prune the ``bias`` too, to see how the \n",
        "parameters, buffers, hooks, and attributes of the ``module`` change.\n",
        "Just for the sake of trying out another pruning technique, here we prune the \n",
        "3 smallest entries in the bias by L1 norm, as implemented in the \n",
        "``l1_unstructured`` pruning function.\n",
        "\n"
      ]
    },
    {
      "cell_type": "code",
      "execution_count": 11,
      "metadata": {
        "collapsed": false
      },
      "outputs": [
        {
          "output_type": "execute_result",
          "data": {
            "text/plain": [
              "Conv2d(1, 6, kernel_size=(3, 3), stride=(1, 1))"
            ]
          },
          "metadata": {},
          "execution_count": 11
        }
      ],
      "source": [
        "prune.l1_unstructured(module, name=\"bias\", amount=3)"
      ]
    },
    {
      "cell_type": "markdown",
      "metadata": {},
      "source": [
        "We now expect the named parameters to include both ``weight_orig`` (from \n",
        "before) and ``bias_orig``. The buffers will include ``weight_mask`` and \n",
        "``bias_mask``. The pruned versions of the two tensors will exist as \n",
        "module attributes, and the module will now have two ``forward_pre_hooks``.\n",
        "\n"
      ]
    },
    {
      "cell_type": "code",
      "execution_count": 12,
      "metadata": {
        "collapsed": false
      },
      "outputs": [
        {
          "output_type": "stream",
          "name": "stdout",
          "text": [
            "[('weight_orig', Parameter containing:\ntensor([[[[-0.2429, -0.0681,  0.2141],\n          [-0.3237,  0.2916,  0.0836],\n          [ 0.3166, -0.0505, -0.0923]]],\n\n\n        [[[-0.0070,  0.2725,  0.2368],\n          [ 0.2387, -0.1942,  0.1940],\n          [ 0.2375, -0.3000,  0.0384]]],\n\n\n        [[[-0.0459, -0.0191,  0.2707],\n          [-0.2176,  0.2177,  0.1617],\n          [-0.1649,  0.0369, -0.1915]]],\n\n\n        [[[ 0.0318,  0.0756,  0.1469],\n          [ 0.1276, -0.0452, -0.3290],\n          [ 0.1080, -0.1449,  0.2936]]],\n\n\n        [[[ 0.2358, -0.2476,  0.2860],\n          [-0.0201,  0.2961,  0.0399],\n          [ 0.1786, -0.2159, -0.0228]]],\n\n\n        [[[ 0.3064,  0.1509, -0.0899],\n          [-0.0257, -0.1684,  0.3071],\n          [-0.2357, -0.1054, -0.0637]]]], device='cuda:0', requires_grad=True)), ('bias_orig', Parameter containing:\ntensor([ 0.1777,  0.2340,  0.1089, -0.3051, -0.2037, -0.1726], device='cuda:0',\n       requires_grad=True))]\n"
          ]
        }
      ],
      "source": [
        "print(list(module.named_parameters()))"
      ]
    },
    {
      "cell_type": "code",
      "execution_count": 13,
      "metadata": {
        "collapsed": false
      },
      "outputs": [
        {
          "output_type": "stream",
          "name": "stdout",
          "text": [
            "[('weight_mask', tensor([[[[1., 1., 0.],\n          [1., 1., 0.],\n          [1., 1., 0.]]],\n\n\n        [[[0., 1., 1.],\n          [1., 1., 0.],\n          [1., 1., 1.]]],\n\n\n        [[[0., 1., 1.],\n          [1., 0., 1.],\n          [0., 1., 1.]]],\n\n\n        [[[0., 1., 1.],\n          [0., 0., 1.],\n          [1., 0., 0.]]],\n\n\n        [[[0., 1., 1.],\n          [1., 1., 1.],\n          [1., 1., 1.]]],\n\n\n        [[[0., 1., 0.],\n          [1., 1., 1.],\n          [1., 1., 1.]]]], device='cuda:0')), ('bias_mask', tensor([0., 1., 0., 1., 1., 0.], device='cuda:0'))]\n"
          ]
        }
      ],
      "source": [
        "print(list(module.named_buffers()))"
      ]
    },
    {
      "cell_type": "code",
      "execution_count": 14,
      "metadata": {
        "collapsed": false
      },
      "outputs": [
        {
          "output_type": "stream",
          "name": "stdout",
          "text": [
            "tensor([ 0.0000,  0.2340,  0.0000, -0.3051, -0.2037, -0.0000], device='cuda:0',\n       grad_fn=<MulBackward0>)\n"
          ]
        }
      ],
      "source": [
        "print(module.bias)"
      ]
    },
    {
      "cell_type": "code",
      "execution_count": 15,
      "metadata": {
        "collapsed": false
      },
      "outputs": [
        {
          "output_type": "stream",
          "name": "stdout",
          "text": [
            "OrderedDict([(0, <torch.nn.utils.prune.RandomUnstructured object at 0x0000026051011B38>), (1, <torch.nn.utils.prune.L1Unstructured object at 0x0000026051011710>)])\n"
          ]
        }
      ],
      "source": [
        "print(module._forward_pre_hooks)"
      ]
    },
    {
      "cell_type": "markdown",
      "metadata": {},
      "source": [
        "Iterative Pruning\n",
        "-----------------\n",
        "\n",
        "The same parameter in a module can be pruned multiple times, with the \n",
        "effect of the various pruning calls being equal to the combination of the\n",
        "various masks applied in series.\n",
        "The combination of a new mask with the old mask is handled by the \n",
        "``PruningContainer``'s ``compute_mask`` method.\n",
        "\n",
        "Say, for example, that we now want to further prune ``module.weight``, this\n",
        "time using structured pruning along the 0th axis of the tensor (the 0th axis \n",
        "corresponds to the output channels of the convolutional layer and has \n",
        "dimensionality 6 for ``conv1``), based on the channels' L2 norm. This can be \n",
        "achieved using the ``ln_structured`` function, with ``n=2`` and ``dim=0``.\n",
        "\n"
      ]
    },
    {
      "cell_type": "code",
      "execution_count": 16,
      "metadata": {
        "collapsed": false
      },
      "outputs": [
        {
          "output_type": "stream",
          "name": "stdout",
          "text": [
            "tensor([[[[-0.2429, -0.0681,  0.0000],\n          [-0.3237,  0.2916,  0.0000],\n          [ 0.3166, -0.0505, -0.0000]]],\n\n\n        [[[-0.0000,  0.2725,  0.2368],\n          [ 0.2387, -0.1942,  0.0000],\n          [ 0.2375, -0.3000,  0.0384]]],\n\n\n        [[[-0.0000, -0.0000,  0.0000],\n          [-0.0000,  0.0000,  0.0000],\n          [-0.0000,  0.0000, -0.0000]]],\n\n\n        [[[ 0.0000,  0.0000,  0.0000],\n          [ 0.0000, -0.0000, -0.0000],\n          [ 0.0000, -0.0000,  0.0000]]],\n\n\n        [[[ 0.0000, -0.2476,  0.2860],\n          [-0.0201,  0.2961,  0.0399],\n          [ 0.1786, -0.2159, -0.0228]]],\n\n\n        [[[ 0.0000,  0.0000, -0.0000],\n          [-0.0000, -0.0000,  0.0000],\n          [-0.0000, -0.0000, -0.0000]]]], device='cuda:0',\n       grad_fn=<MulBackward0>)\n"
          ]
        }
      ],
      "source": [
        "prune.ln_structured(module, name=\"weight\", amount=0.5, n=2, dim=0)\n",
        "\n",
        "# As we can verify, this will zero out all the connections corresponding to \n",
        "# 50% (3 out of 6) of the channels, while preserving the action of the \n",
        "# previous mask.\n",
        "print(module.weight)"
      ]
    },
    {
      "cell_type": "markdown",
      "metadata": {},
      "source": [
        "The corresponding hook will now be of type \n",
        "``torch.nn.utils.prune.PruningContainer``, and will store the history of \n",
        "pruning applied to the ``weight`` parameter.\n",
        "\n"
      ]
    },
    {
      "cell_type": "code",
      "execution_count": 17,
      "metadata": {
        "collapsed": false
      },
      "outputs": [
        {
          "output_type": "stream",
          "name": "stdout",
          "text": [
            "[<torch.nn.utils.prune.RandomUnstructured object at 0x0000026051011B38>, <torch.nn.utils.prune.LnStructured object at 0x000002605103F0B8>]\n"
          ]
        }
      ],
      "source": [
        "for hook in module._forward_pre_hooks.values():\n",
        "    if hook._tensor_name == \"weight\":  # select out the correct hook\n",
        "        break\n",
        "\n",
        "print(list(hook))  # pruning history in the container"
      ]
    },
    {
      "cell_type": "markdown",
      "metadata": {},
      "source": [
        "Serializing a pruned model\n",
        "--------------------------\n",
        "All relevant tensors, including the mask buffers and the original parameters\n",
        "used to compute the pruned tensors are stored in the model's ``state_dict`` \n",
        "and can therefore be easily serialized and saved, if needed.\n",
        "\n"
      ]
    },
    {
      "cell_type": "code",
      "execution_count": 18,
      "metadata": {
        "collapsed": false
      },
      "outputs": [
        {
          "output_type": "stream",
          "name": "stdout",
          "text": [
            "odict_keys(['conv1.weight_orig', 'conv1.bias_orig', 'conv1.weight_mask', 'conv1.bias_mask', 'conv2.weight', 'conv2.bias', 'fc1.weight', 'fc1.bias', 'fc2.weight', 'fc2.bias', 'fc3.weight', 'fc3.bias'])\n"
          ]
        }
      ],
      "source": [
        "print(model.state_dict().keys())"
      ]
    },
    {
      "cell_type": "markdown",
      "metadata": {},
      "source": [
        "Remove pruning re-parametrization\n",
        "---------------------------------\n",
        "\n",
        "To make the pruning permanent, remove the re-parametrization in terms\n",
        "of ``weight_orig`` and ``weight_mask``, and remove the ``forward_pre_hook``,\n",
        "we can use the ``remove`` functionality from ``torch.nn.utils.prune``.\n",
        "Note that this doesn't undo the pruning, as if it never happened. It simply \n",
        "makes it permanent, instead, by reassigning the parameter ``weight`` to the \n",
        "model parameters, in its pruned version.\n",
        "\n"
      ]
    },
    {
      "cell_type": "markdown",
      "metadata": {},
      "source": [
        "Prior to removing the re-parametrization:\n",
        "\n"
      ]
    },
    {
      "cell_type": "code",
      "execution_count": 19,
      "metadata": {
        "collapsed": false
      },
      "outputs": [
        {
          "output_type": "stream",
          "name": "stdout",
          "text": [
            "[('weight_orig', Parameter containing:\ntensor([[[[-0.1905, -0.2064,  0.2421],\n          [ 0.2352,  0.3252,  0.2170],\n          [ 0.2244,  0.2417, -0.1830]]],\n\n\n        [[[ 0.3189, -0.0625, -0.1112],\n          [-0.0141, -0.0451, -0.0326],\n          [ 0.0181,  0.3178,  0.1555]]],\n\n\n        [[[-0.1525,  0.2563,  0.1123],\n          [ 0.3321, -0.1863, -0.0110],\n          [-0.2446, -0.1449,  0.3160]]],\n\n\n        [[[ 0.0788,  0.1446,  0.0195],\n          [ 0.3219,  0.1855, -0.2010],\n          [ 0.2909, -0.1557,  0.2179]]],\n\n\n        [[[ 0.0230,  0.1190,  0.2363],\n          [ 0.1027, -0.2016,  0.2313],\n          [-0.2444, -0.2280, -0.0354]]],\n\n\n        [[[-0.1015, -0.1419,  0.1308],\n          [ 0.3165, -0.0236, -0.1377],\n          [-0.2168,  0.0642,  0.2285]]]], device='cuda:0', requires_grad=True)), ('bias_orig', Parameter containing:\ntensor([-0.2607, -0.1153,  0.0941,  0.3098,  0.2262,  0.0171], device='cuda:0',\n       requires_grad=True))]\n"
          ]
        }
      ],
      "source": [
        "print(list(module.named_parameters()))"
      ]
    },
    {
      "cell_type": "code",
      "execution_count": 20,
      "metadata": {
        "collapsed": false
      },
      "outputs": [
        {
          "output_type": "stream",
          "name": "stdout",
          "text": [
            "[('weight_mask', tensor([[[[0., 1., 1.],\n          [1., 1., 1.],\n          [0., 1., 1.]]],\n\n\n        [[[0., 0., 0.],\n          [0., 0., 0.],\n          [0., 0., 0.]]],\n\n\n        [[[1., 0., 0.],\n          [1., 1., 1.],\n          [1., 1., 1.]]],\n\n\n        [[[0., 1., 1.],\n          [1., 1., 1.],\n          [1., 0., 1.]]],\n\n\n        [[[0., 0., 0.],\n          [0., 0., 0.],\n          [0., 0., 0.]]],\n\n\n        [[[0., 0., 0.],\n          [0., 0., 0.],\n          [0., 0., 0.]]]], device='cuda:0')), ('bias_mask', tensor([1., 0., 0., 1., 1., 0.], device='cuda:0'))]\n"
          ]
        }
      ],
      "source": [
        "print(list(module.named_buffers()))"
      ]
    },
    {
      "cell_type": "code",
      "execution_count": 21,
      "metadata": {
        "collapsed": false
      },
      "outputs": [
        {
          "output_type": "stream",
          "name": "stdout",
          "text": [
            "tensor([[[[-0.0000, -0.2064,  0.2421],\n          [ 0.2352,  0.3252,  0.2170],\n          [ 0.0000,  0.2417, -0.1830]]],\n\n\n        [[[ 0.0000, -0.0000, -0.0000],\n          [-0.0000, -0.0000, -0.0000],\n          [ 0.0000,  0.0000,  0.0000]]],\n\n\n        [[[-0.1525,  0.0000,  0.0000],\n          [ 0.3321, -0.1863, -0.0110],\n          [-0.2446, -0.1449,  0.3160]]],\n\n\n        [[[ 0.0000,  0.1446,  0.0195],\n          [ 0.3219,  0.1855, -0.2010],\n          [ 0.2909, -0.0000,  0.2179]]],\n\n\n        [[[ 0.0000,  0.0000,  0.0000],\n          [ 0.0000, -0.0000,  0.0000],\n          [-0.0000, -0.0000, -0.0000]]],\n\n\n        [[[-0.0000, -0.0000,  0.0000],\n          [ 0.0000, -0.0000, -0.0000],\n          [-0.0000,  0.0000,  0.0000]]]], device='cuda:0',\n       grad_fn=<MulBackward0>)\n"
          ]
        }
      ],
      "source": [
        "print(module.weight)"
      ]
    },
    {
      "cell_type": "markdown",
      "metadata": {},
      "source": [
        "After removing the re-parametrization:\n",
        "\n"
      ]
    },
    {
      "cell_type": "code",
      "execution_count": 22,
      "metadata": {
        "collapsed": false
      },
      "outputs": [
        {
          "output_type": "stream",
          "name": "stdout",
          "text": [
            "[('bias_orig', Parameter containing:\ntensor([-0.2607, -0.1153,  0.0941,  0.3098,  0.2262,  0.0171], device='cuda:0',\n       requires_grad=True)), ('weight', Parameter containing:\ntensor([[[[-0.0000, -0.2064,  0.2421],\n          [ 0.2352,  0.3252,  0.2170],\n          [ 0.0000,  0.2417, -0.1830]]],\n\n\n        [[[ 0.0000, -0.0000, -0.0000],\n          [-0.0000, -0.0000, -0.0000],\n          [ 0.0000,  0.0000,  0.0000]]],\n\n\n        [[[-0.1525,  0.0000,  0.0000],\n          [ 0.3321, -0.1863, -0.0110],\n          [-0.2446, -0.1449,  0.3160]]],\n\n\n        [[[ 0.0000,  0.1446,  0.0195],\n          [ 0.3219,  0.1855, -0.2010],\n          [ 0.2909, -0.0000,  0.2179]]],\n\n\n        [[[ 0.0000,  0.0000,  0.0000],\n          [ 0.0000, -0.0000,  0.0000],\n          [-0.0000, -0.0000, -0.0000]]],\n\n\n        [[[-0.0000, -0.0000,  0.0000],\n          [ 0.0000, -0.0000, -0.0000],\n          [-0.0000,  0.0000,  0.0000]]]], device='cuda:0', requires_grad=True))]\n"
          ]
        }
      ],
      "source": [
        "prune.remove(module, 'weight') # !\n",
        "print(list(module.named_parameters()))"
      ]
    },
    {
      "cell_type": "code",
      "execution_count": 23,
      "metadata": {
        "collapsed": false
      },
      "outputs": [
        {
          "output_type": "stream",
          "name": "stdout",
          "text": [
            "[('bias_mask', tensor([1., 0., 0., 1., 1., 0.], device='cuda:0'))]\n"
          ]
        }
      ],
      "source": [
        "print(list(module.named_buffers()))"
      ]
    },
    {
      "cell_type": "markdown",
      "metadata": {},
      "source": [
        "Pruning multiple parameters in a model \n",
        "--------------------------------------\n",
        "\n",
        "By specifying the desired pruning technique and parameters, we can easily \n",
        "prune multiple tensors in a network, perhaps according to their type, as we \n",
        "will see in this example.\n",
        "\n"
      ]
    },
    {
      "cell_type": "code",
      "execution_count": 24,
      "metadata": {
        "collapsed": false
      },
      "outputs": [
        {
          "output_type": "stream",
          "name": "stdout",
          "text": [
            "dict_keys(['conv1.weight_mask', 'conv2.weight_mask', 'fc1.weight_mask', 'fc2.weight_mask', 'fc3.weight_mask'])\n"
          ]
        }
      ],
      "source": [
        "new_model = LeNet()\n",
        "for name, module in new_model.named_modules():\n",
        "    # prune 20% of connections in all 2D-conv layers \n",
        "    if isinstance(module, torch.nn.Conv2d):\n",
        "        prune.l1_unstructured(module, name='weight', amount=0.2)\n",
        "    # prune 40% of connections in all linear layers \n",
        "    elif isinstance(module, torch.nn.Linear):\n",
        "        prune.l1_unstructured(module, name='weight', amount=0.4)\n",
        "\n",
        "print(dict(new_model.named_buffers()).keys())  # to verify that all masks exist"
      ]
    },
    {
      "cell_type": "markdown",
      "metadata": {},
      "source": [
        "Global pruning\n",
        "--------------\n",
        "\n",
        "So far, we only looked at what is usually referred to as \"local\" pruning,\n",
        "i.e. the practice of pruning tensors in a model one by one, by \n",
        "comparing the statistics (weight magnitude, activation, gradient, etc.) of \n",
        "each entry exclusively to the other entries in that tensor. However, a \n",
        "common and perhaps more powerful technique is to prune the model all at \n",
        "once, by removing (for example) the lowest 20% of connections across the \n",
        "whole model, instead of removing the lowest 20% of connections in each \n",
        "layer. This is likely to result in different pruning percentages per layer.\n",
        "Let's see how to do that using ``global_unstructured`` from \n",
        "``torch.nn.utils.prune``.\n",
        "\n"
      ]
    },
    {
      "cell_type": "code",
      "execution_count": 25,
      "metadata": {
        "collapsed": false
      },
      "outputs": [],
      "source": [
        "model = LeNet()\n",
        "\n",
        "parameters_to_prune = (\n",
        "    (model.conv1, 'weight'),\n",
        "    (model.conv2, 'weight'),\n",
        "    (model.fc1, 'weight'),\n",
        "    (model.fc2, 'weight'),\n",
        "    (model.fc3, 'weight'),\n",
        ")\n",
        "\n",
        "prune.global_unstructured(\n",
        "    parameters_to_prune,\n",
        "    pruning_method=prune.L1Unstructured,\n",
        "    amount=0.2,\n",
        ")"
      ]
    },
    {
      "cell_type": "markdown",
      "metadata": {},
      "source": [
        "Now we can check the sparsity induced in every pruned parameter, which will \n",
        "not be equal to 20% in each layer. However, the global sparsity will be \n",
        "(approximately) 20%.\n",
        "\n"
      ]
    },
    {
      "cell_type": "code",
      "execution_count": 26,
      "metadata": {
        "collapsed": false
      },
      "outputs": [
        {
          "output_type": "stream",
          "name": "stdout",
          "text": [
            "Sparsity in conv1.weight: 5.56%\nSparsity in conv2.weight: 7.87%\nSparsity in fc1.weight: 22.05%\nSparsity in fc2.weight: 12.11%\nSparsity in fc3.weight: 10.83%\nGlobal sparsity: 20.00%\n"
          ]
        }
      ],
      "source": [
        "print(\n",
        "    \"Sparsity in conv1.weight: {:.2f}%\".format(\n",
        "        100. * float(torch.sum(model.conv1.weight == 0))\n",
        "        / float(model.conv1.weight.nelement())\n",
        "    )\n",
        ")\n",
        "print(\n",
        "    \"Sparsity in conv2.weight: {:.2f}%\".format(\n",
        "        100. * float(torch.sum(model.conv2.weight == 0))\n",
        "        / float(model.conv2.weight.nelement())\n",
        "    )\n",
        ")\n",
        "print(\n",
        "    \"Sparsity in fc1.weight: {:.2f}%\".format(\n",
        "        100. * float(torch.sum(model.fc1.weight == 0))\n",
        "        / float(model.fc1.weight.nelement())\n",
        "    )\n",
        ")\n",
        "print(\n",
        "    \"Sparsity in fc2.weight: {:.2f}%\".format(\n",
        "        100. * float(torch.sum(model.fc2.weight == 0))\n",
        "        / float(model.fc2.weight.nelement())\n",
        "    )\n",
        ")\n",
        "print(\n",
        "    \"Sparsity in fc3.weight: {:.2f}%\".format(\n",
        "        100. * float(torch.sum(model.fc3.weight == 0))\n",
        "        / float(model.fc3.weight.nelement())\n",
        "    )\n",
        ")\n",
        "print(\n",
        "    \"Global sparsity: {:.2f}%\".format(\n",
        "        100. * float(\n",
        "            torch.sum(model.conv1.weight == 0)\n",
        "            + torch.sum(model.conv2.weight == 0)\n",
        "            + torch.sum(model.fc1.weight == 0)\n",
        "            + torch.sum(model.fc2.weight == 0)\n",
        "            + torch.sum(model.fc3.weight == 0)\n",
        "        )\n",
        "        / float(\n",
        "            model.conv1.weight.nelement()\n",
        "            + model.conv2.weight.nelement()\n",
        "            + model.fc1.weight.nelement()\n",
        "            + model.fc2.weight.nelement()\n",
        "            + model.fc3.weight.nelement()\n",
        "        )\n",
        "    )\n",
        ")"
      ]
    },
    {
      "cell_type": "markdown",
      "metadata": {},
      "source": [
        "Extending ``torch.nn.utils.prune`` with custom pruning functions\n",
        "------------------------------------------------------------------\n",
        "To implement your own pruning function, you can extend the\n",
        "``nn.utils.prune`` module by subclassing the ``BasePruningMethod``\n",
        "base class, the same way all other pruning methods do. The base class\n",
        "implements the following methods for you: ``__call__``, ``apply_mask``,\n",
        "``apply``, ``prune``, and ``remove``. Beyond some special cases, you shouldn't\n",
        "have to reimplement these methods for your new pruning technique.\n",
        "You will, however, have to implement ``__init__`` (the constructor),\n",
        "and ``compute_mask`` (the instructions on how to compute the mask\n",
        "for the given tensor according to the logic of your pruning\n",
        "technique). In addition, you will have to specify which type of\n",
        "pruning this technique implements (supported options are ``global``,\n",
        "``structured``, and ``unstructured``). This is needed to determine\n",
        "how to combine masks in the case in which pruning is applied\n",
        "iteratively. In other words, when pruning a pre-pruned parameter,\n",
        "the current prunining techique is expected to act on the unpruned\n",
        "portion of the parameter. Specifying the ``PRUNING_TYPE`` will\n",
        "enable the ``PruningContainer`` (which handles the iterative\n",
        "application of pruning masks) to correctly identify the slice of the\n",
        "parameter to prune.\n",
        "\n",
        "Let's assume, for example, that you want to implement a pruning\n",
        "technique that prunes every other entry in a tensor (or -- if the\n",
        "tensor has previously been pruned -- in the remaining unpruned\n",
        "portion of the tensor). This will be of ``PRUNING_TYPE='unstructured'``\n",
        "because it acts on individual connections in a layer and not on entire\n",
        "units/channels (``'structured'``), or across different parameters\n",
        "(``'global'``).\n",
        "\n"
      ]
    },
    {
      "cell_type": "code",
      "execution_count": 27,
      "metadata": {
        "collapsed": false
      },
      "outputs": [],
      "source": [
        "class FooBarPruningMethod(prune.BasePruningMethod):\n",
        "    \"\"\"Prune every other entry in a tensor\n",
        "    \"\"\"\n",
        "    PRUNING_TYPE = 'unstructured'\n",
        "\n",
        "    def compute_mask(self, t, default_mask):\n",
        "        mask = default_mask.clone()\n",
        "        mask.view(-1)[::2] = 0 \n",
        "        return mask"
      ]
    },
    {
      "cell_type": "markdown",
      "metadata": {},
      "source": [
        "Now, to apply this to a parameter in an ``nn.Module``, you should\n",
        "also provide a simple function that instantiates the method and\n",
        "applies it.\n",
        "\n"
      ]
    },
    {
      "cell_type": "code",
      "execution_count": 28,
      "metadata": {
        "collapsed": false
      },
      "outputs": [],
      "source": [
        "def foobar_unstructured(module, name):\n",
        "    \"\"\"Prunes tensor corresponding to parameter called `name` in `module`\n",
        "    by removing every other entry in the tensors.\n",
        "    Modifies module in place (and also return the modified module) \n",
        "    by:\n",
        "    1) adding a named buffer called `name+'_mask'` corresponding to the \n",
        "    binary mask applied to the parameter `name` by the pruning method.\n",
        "    The parameter `name` is replaced by its pruned version, while the \n",
        "    original (unpruned) parameter is stored in a new parameter named \n",
        "    `name+'_orig'`.\n",
        "\n",
        "    Args:\n",
        "        module (nn.Module): module containing the tensor to prune\n",
        "        name (string): parameter name within `module` on which pruning\n",
        "                will act.\n",
        "\n",
        "    Returns:\n",
        "        module (nn.Module): modified (i.e. pruned) version of the input\n",
        "            module\n",
        "    \n",
        "    Examples:\n",
        "        >>> m = nn.Linear(3, 4)\n",
        "        >>> foobar_unstructured(m, name='bias')\n",
        "    \"\"\"\n",
        "    FooBarPruningMethod.apply(module, name)\n",
        "    return module"
      ]
    },
    {
      "cell_type": "markdown",
      "metadata": {},
      "source": [
        "Let's try it out!\n",
        "\n"
      ]
    },
    {
      "cell_type": "code",
      "execution_count": 29,
      "metadata": {
        "collapsed": false
      },
      "outputs": [
        {
          "output_type": "stream",
          "name": "stdout",
          "text": [
            "tensor([0., 1., 0., 1., 0., 1., 0., 1., 0., 1.])\n"
          ]
        }
      ],
      "source": [
        "model = LeNet()\n",
        "foobar_unstructured(model.fc3, name='bias')\n",
        "\n",
        "print(model.fc3.bias_mask)"
      ]
    }
  ],
  "metadata": {
    "kernelspec": {
      "display_name": "ps 3.6 Kernel",
      "language": "python",
      "name": "ps_36"
    },
    "language_info": {
      "codemirror_mode": {
        "name": "ipython",
        "version": 3
      },
      "file_extension": ".py",
      "mimetype": "text/x-python",
      "name": "python",
      "nbconvert_exporter": "python",
      "pygments_lexer": "ipython3",
      "version": "3.6.12-final"
    }
  },
  "nbformat": 4,
  "nbformat_minor": 0
}